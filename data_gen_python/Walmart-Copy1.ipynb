{
 "metadata": {
  "name": ""
 },
 "nbformat": 3,
 "nbformat_minor": 0,
 "worksheets": [
  {
   "cells": [
    {
     "cell_type": "code",
     "collapsed": false,
     "input": [
      "import pandas as pd\n",
      "T1 = pd.DataFrame(pd.read_csv(\"C:\\\\scratch\\\\jiaxingl\\\\walmart\\\\weather.csv\", na_values = ['M','T','-', '  T']))\n",
      "T1['preciptotal'].fillna(0, inplace=True)\n",
      "T1 = T1.sort(['station_nbr', 'date'])\n",
      "T1 = T1.interpolate()\n",
      "T1 = T1.fillna(method = 'pad')\n",
      "T1 = T1.fillna(method = 'bfill')\n",
      "\n",
      "T_train = pd.DataFrame(pd.read_csv(\"C:\\\\scratch\\\\jiaxingl\\\\walmart\\\\train.csv\", na_values = ['M','T','-', '  T']))\n"
     ],
     "language": "python",
     "metadata": {},
     "outputs": [],
     "prompt_number": 11
    },
    {
     "cell_type": "code",
     "collapsed": false,
     "input": [
      "%matplotlib inline \n",
      "\n",
      "import numpy as np\n",
      "import pandas as pd\n",
      "import matplotlib.pyplot as plt\n",
      "\n",
      "y = T_train[\"units\"].loc[(T_train[\"store_nbr\"] == 2) & (T_train[\"item_nbr\"] == 5)].values[:400]\n",
      "for i in range(7):\n",
      "    print np.array(y[i::7]).mean()\n",
      "\n",
      "'''\n",
      "axes = pd.tools.plotting.scatter_matrix(pd.DataFrame, alpha=0.2)\n",
      "plt.tight_layout()\n",
      "'''\n",
      "\n",
      "\n",
      "'''\n",
      "plt.plot(y[:100])\n",
      "plt.show()\n",
      "\n",
      "plt.plot(T1['preciptotal'].loc[T1[\"station_nbr\"] == 14].values[:100])\n",
      "plt.show()\n",
      "\n",
      "plt.plot(T1['tavg'].loc[T1[\"station_nbr\"] == 14].values[:100])\n",
      "plt.show()\n",
      "\n",
      "plt.plot(T1['dewpoint'].loc[T1[\"station_nbr\"] == 14].values[:100])\n",
      "plt.show()\n",
      "\n",
      "plt.plot(T1['wetbulb'].loc[T1[\"station_nbr\"] == 14].values[:100])\n",
      "plt.show()\n",
      "'''"
     ],
     "language": "python",
     "metadata": {},
     "outputs": [
      {
       "output_type": "stream",
       "stream": "stdout",
       "text": [
        "91.3965517241\n",
        "67.8771929825\n",
        "71.6666666667\n",
        "58.0175438596\n",
        "58.0701754386\n",
        "55.5087719298\n",
        "83.4210526316\n"
       ]
      },
      {
       "metadata": {},
       "output_type": "pyout",
       "prompt_number": 50,
       "text": [
        "'\\nplt.plot(y[:100])\\nplt.show()\\n\\nplt.plot(T1[\\'preciptotal\\'].loc[T1[\"station_nbr\"] == 14].values[:100])\\nplt.show()\\n\\nplt.plot(T1[\\'tavg\\'].loc[T1[\"station_nbr\"] == 14].values[:100])\\nplt.show()\\n\\nplt.plot(T1[\\'dewpoint\\'].loc[T1[\"station_nbr\"] == 14].values[:100])\\nplt.show()\\n\\nplt.plot(T1[\\'wetbulb\\'].loc[T1[\"station_nbr\"] == 14].values[:100])\\nplt.show()\\n'"
       ]
      }
     ],
     "prompt_number": 50
    },
    {
     "cell_type": "code",
     "collapsed": false,
     "input": [],
     "language": "python",
     "metadata": {},
     "outputs": []
    },
    {
     "cell_type": "code",
     "collapsed": false,
     "input": [
      "import pandas as pd\n",
      "T1 = pd.DataFrame(pd.read_csv(\"C:\\\\scratch\\\\jiaxingl\\\\walmart\\\\weather.csv\", na_values = ['M','T','-', '  T']))\n",
      "T1['preciptotal'].fillna(0, inplace=True)\n",
      "T1 = T1.sort(['station_nbr', 'date'])\n",
      "T1 = T1.interpolate()\n",
      "T1 = T1.fillna(method = 'pad')\n",
      "T1 = T1.fillna(method = 'bfill')\n",
      "T1.to_csv(\"C:\\\\scratch\\\\jiaxingl\\\\walmart\\\\weather2.csv\", index = False, quoting = csv.QUOTE_ALL)"
     ],
     "language": "python",
     "metadata": {},
     "outputs": [],
     "prompt_number": 99
    },
    {
     "cell_type": "code",
     "collapsed": false,
     "input": [
      "#store to station mapping\n",
      "import csv\n",
      "store_to_station = {}\n",
      "csvfile = open(\"C:\\\\scratch\\\\jiaxingl\\\\walmart\\\\key.csv\", \"r\")\n",
      "csvreader = csv.reader(csvfile, delimiter=',', quotechar='\"')\n",
      "header = csvreader.next()\n",
      "for row in csvreader:\n",
      "    store_to_station[int(row[0])] = int(row[1])"
     ],
     "language": "python",
     "metadata": {},
     "outputs": [],
     "prompt_number": 1
    },
    {
     "cell_type": "code",
     "collapsed": false,
     "input": [
      "from datetime import date\n",
      "\n",
      "d0 = date(2011, 12, 20)\n",
      "d1 = date(2015, 1, 1)\n",
      "delta = d1 - d0\n",
      "n = delta.days\n",
      "\n",
      "def str_to_date(date_rec):\n",
      "    date_day = date_rec.split('-')\n",
      "    yy = int(date_day[0])\n",
      "    mm = int(date_day[1])\n",
      "    dd = int(date_day[2])\n",
      "    return date(yy, mm, dd)\n",
      "\n",
      "def is_weekend(date_rec):\n",
      "    return str_to_date(date_rec).weekday()\n",
      "\n",
      "def date_to_num(date_rec):\n",
      "    d = (str_to_date(date_rec) - d0).days\n",
      "    return d\n",
      "    "
     ],
     "language": "python",
     "metadata": {},
     "outputs": [],
     "prompt_number": 2
    },
    {
     "cell_type": "code",
     "collapsed": false,
     "input": [
      "#weather info\n",
      "import csv\n",
      "from datetime import date\n",
      "csvfile = open(\"C:\\\\scratch\\\\jiaxingl\\\\walmart\\\\weather2.csv\", \"r\")\n",
      "csvreader = csv.reader(csvfile, delimiter=',', quotechar='\"')\n",
      "header = csvreader.next()\n",
      "snowfall = [[0 for j in range(n)] for i in range(21)]\n",
      "precip = [[0 for j in range(n)] for i in range(21)]\n",
      "heat = [[0 for j in range(n)] for i in range(21)]\n",
      "dewpoint = [[0 for j in range(n)] for i in range(21)]\n",
      "wetbulb = [[0 for j in range(n)] for i in range(21)]\n",
      "aveT = [[0 for j in range(n)] for i in range(21)]\n",
      "weekEnd = [[0 for j in range(n)] for i in range(21)]\n",
      "\n",
      "for row in csvreader:\n",
      "    station_nbr = int(row[0])\n",
      "    d = date_to_num(row[1])\n",
      "    \n",
      "    precip[station_nbr][d] = float(row[14])\n",
      "    snowfall[station_nbr][d] = float(row[13])\n",
      "    heat[station_nbr][d] = float(row[8])\n",
      "    wetbulb[station_nbr][d] = float(row[7])\n",
      "    dewpoint[station_nbr][d] = float(row[6])\n",
      "    aveT[station_nbr][d] = float(row[4])\n",
      "    weekEnd[station_nbr][d] = is_weekend(row[1])\n",
      "    \n",
      "    #print int(is_weekend(row[1]))\n",
      "        \n",
      "    #print station_nbr, d, preciptotal\n"
     ],
     "language": "python",
     "metadata": {},
     "outputs": [],
     "prompt_number": 3
    },
    {
     "cell_type": "code",
     "collapsed": false,
     "input": [
      "pre_days = 5\n",
      "post_days = 1\n",
      "def features_construct(d, store_nbr):\n",
      "    x = [1]\n",
      "    '''\n",
      "    for i in range(d - 2, d + post_days):\n",
      "        x.append(precip[store_to_station[store_nbr]][i])\n",
      "    \n",
      "    for i in range(d - 2, d + post_days):\n",
      "        x.append(snowfall[store_to_station[store_nbr]][i])\n",
      "    \n",
      "    for i in [d - 1, d]:\n",
      "        x.append(heat[store_to_station[store_nbr]][i])\n",
      "        x.append(wetbulb[store_to_station[store_nbr]][i])\n",
      "        x.append(dewpoint[store_to_station[store_nbr]][i])\n",
      "        x.append(aveT[store_to_station[store_nbr]][i])\n",
      "    '''\n",
      "    for i in range(7):\n",
      "        x.append(int(d % 7 == i))\n",
      "    \n",
      "    return x\n",
      "    "
     ],
     "language": "python",
     "metadata": {},
     "outputs": [],
     "prompt_number": 51
    },
    {
     "cell_type": "code",
     "collapsed": false,
     "input": [
      "# train data\n",
      "import csv\n",
      "import math\n",
      "csvfile = open(\"C:\\\\scratch\\\\jiaxingl\\\\walmart\\\\train.csv\", \"r\")\n",
      "csvreader = csv.reader(csvfile, delimiter=',', quotechar='\"')\n",
      "header = csvreader.next()\n",
      "X = [[[] for j in range(46)] for i in range(112)]\n",
      "y = [[[] for j in range(46)] for i in range(112)]\n",
      "for row in csvreader:\n",
      "    store_nbr = int(row[1])\n",
      "    item_nbr = int(row[2])\n",
      "    y[item_nbr][store_nbr].append(math.log1p(int(row[-1])))\n",
      "    d = date_to_num(row[0])\n",
      "    X[item_nbr][store_nbr].append(features_construct(d, store_nbr))\n",
      "#print d"
     ],
     "language": "python",
     "metadata": {},
     "outputs": [],
     "prompt_number": 52
    },
    {
     "cell_type": "code",
     "collapsed": false,
     "input": [
      "#using model to train the data\n",
      "from sklearn import linear_model\n",
      "from sklearn import ensemble\n",
      "from sklearn.cross_validation import cross_val_score\n",
      "import numpy as np\n",
      "clfs = [[0 for j in range(46)] for i in range(112)]\n",
      "s = [[0 for j in range(46)] for i in range(112)]\n",
      "for item_nbr in range(1, 112):\n",
      "    for store_nbr in range(1, 46):\n",
      "        clf = ensemble.RandomForestRegressor(n_estimators = 10, random_state = 0)\n",
      "        clf.fit(X[item_nbr][store_nbr], y[item_nbr][store_nbr])\n",
      "        clfs[item_nbr][store_nbr] = clf\n",
      "        X_cv = np.array(X[item_nbr][store_nbr])\n",
      "        y_cv = np.array(y[item_nbr][store_nbr])\n",
      "        #s[item_nbr][store_nbr] = cross_val_score(clf, X_cv, y_cv).mean()\n",
      "        #print s[item_nbr][store_nbr]\n"
     ],
     "language": "python",
     "metadata": {},
     "outputs": [],
     "prompt_number": 56
    },
    {
     "cell_type": "code",
     "collapsed": false,
     "input": [
      "print s[5]"
     ],
     "language": "python",
     "metadata": {},
     "outputs": [
      {
       "output_type": "stream",
       "stream": "stdout",
       "text": [
        "[0, 0, 0, 0, 0, 0, 0, 0, 0, 0, 0, 0, 0, 0, 0, 0, 0, 0, 0, 0, 0, 0, 0, 0, 0, 0, 0, 0, 0, 0, 0, 0, 0, 0, 0, 0, 0, 0, 0, 0, 0, 0, 0, 0, 0, 0]\n"
       ]
      }
     ],
     "prompt_number": 54
    },
    {
     "cell_type": "code",
     "collapsed": false,
     "input": [
      "#prediction\n",
      "csvfile = open(\"C:\\\\scratch\\\\jiaxingl\\\\walmart\\\\test.csv\", \"r\")\n",
      "csvreader = csv.reader(csvfile, delimiter=',', quotechar='\"')\n",
      "header = csvreader.next()\n",
      "\n",
      "csvwrite = open(\"C:\\\\scratch\\\\jiaxingl\\\\walmart\\\\submission.csv\", 'wb')\n",
      "csvwriter = csv.writer(csvwrite, delimiter=',',\n",
      "                            quotechar='\"', quoting=csv.QUOTE_MINIMAL)\n",
      "sub_head = ['id', 'units']\n",
      "csvwriter.writerow(sub_head)\n",
      "\n",
      "\n",
      "for row in csvreader:\n",
      "    store_nbr = int(row[1])\n",
      "    item_nbr = int(row[2])\n",
      "    d = date_to_num(row[0])\n",
      "    x = features_construct(d, store_nbr)\n",
      "    ans = int(math.expm1(clfs[item_nbr][store_nbr].predict(x)))\n",
      "    \n",
      "    if ans < 0:\n",
      "        ans = 0\n",
      "    csvwriter.writerow(['_'.join([row[1], row[2], row[0]]), str(ans)])\n",
      "\n",
      "csvwrite.close()\n"
     ],
     "language": "python",
     "metadata": {},
     "outputs": [],
     "prompt_number": 57
    },
    {
     "cell_type": "code",
     "collapsed": false,
     "input": [],
     "language": "python",
     "metadata": {},
     "outputs": []
    }
   ],
   "metadata": {}
  }
 ]
}