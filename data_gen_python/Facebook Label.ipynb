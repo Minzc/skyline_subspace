{
 "metadata": {
  "name": ""
 },
 "nbformat": 3,
 "nbformat_minor": 0,
 "worksheets": [
  {
   "cells": [
    {
     "cell_type": "code",
     "collapsed": false,
     "input": [
      "iters = range(5)\n",
      "fo = open(\"C:\\\\scratch\\\\jiaxingl\\\\features_subspace_dim100.txt\", 'r')\n",
      "labels = []\n",
      "for line in fo:\n",
      "    labels.append(map(int, line.split())[1:])\n",
      "    \n",
      "for it in iters:\n",
      "    fname = \"C:\\\\scratch\\\\jiaxingl\\\\fb_label\"+str(it)+'.txt'\n",
      "    f = open(fname, 'w')\n",
      "    for label in labels:\n",
      "        x = []\n",
      "        for i in label:\n",
      "            if i < it * 4 + 4:\n",
      "                x.append(i)\n",
      "        x = [len(x)] + x\n",
      "        f.write(' '.join(map(str, x))+'\\n')\n",
      "    f.close()"
     ],
     "language": "python",
     "metadata": {},
     "outputs": [],
     "prompt_number": 10
    },
    {
     "cell_type": "code",
     "collapsed": false,
     "input": [],
     "language": "python",
     "metadata": {},
     "outputs": []
    }
   ],
   "metadata": {}
  }
 ]
}