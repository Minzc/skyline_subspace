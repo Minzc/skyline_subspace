{
 "metadata": {
  "name": ""
 },
 "nbformat": 3,
 "nbformat_minor": 0,
 "worksheets": [
  {
   "cells": [
    {
     "cell_type": "code",
     "collapsed": false,
     "input": [
      "n = int(raw_input())\n",
      "q = [('1', 1 % n)]\n",
      "mark = {1 % n: 1}\n",
      "while len(q) > 0:\n",
      "    s, m = q.pop(0)\n",
      "    if m == 0:\n",
      "        print s\n",
      "        break\n",
      "    if m * 10 % n not in mark:\n",
      "        mark[m * 10 % n] = 1\n",
      "        q.append((s + '0', m * 10 % n))\n",
      "    if (m * 10 + 1) % n not in mark:\n",
      "        mark[(m * 10 + 1) % n] = 1\n",
      "        q.append((s + '1', (m * 10 + 1) % n))"
     ],
     "language": "python",
     "metadata": {},
     "outputs": [
      {
       "name": "stdout",
       "output_type": "stream",
       "stream": "stdout",
       "text": [
        "7\n"
       ]
      },
      {
       "output_type": "stream",
       "stream": "stdout",
       "text": [
        "1001\n"
       ]
      }
     ],
     "prompt_number": 8
    },
    {
     "cell_type": "code",
     "collapsed": false,
     "input": [],
     "language": "python",
     "metadata": {},
     "outputs": []
    }
   ],
   "metadata": {}
  }
 ]
}