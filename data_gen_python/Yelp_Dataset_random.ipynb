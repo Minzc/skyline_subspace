{
 "metadata": {
  "name": ""
 },
 "nbformat": 3,
 "nbformat_minor": 0,
 "worksheets": [
  {
   "cells": [
    {
     "cell_type": "code",
     "collapsed": false,
     "input": [
      "import json\n",
      "import random\n",
      "import math\n",
      "from operator import itemgetter, attrgetter\n",
      "\n",
      "json_data = open('V:\\\\xiangbom\\\\yelp_academic_biz.json', 'r')\n",
      "datas = []\n",
      "cdict = {}\n",
      "ccnt = {}\n",
      "cnt = 0\n",
      "for line in json_data:\n",
      "    dt = json.loads(line)\n",
      "    datas.append(dt)\n",
      "    for i in dt[\"categories\"]:\n",
      "        ccnt[i] = ccnt.get(i, 0) + 1\n",
      "\n",
      "#print ccnt\n",
      "json_data.close()\n",
      "l = sorted(ccnt.iteritems(), key=itemgetter(1))[::-1]\n",
      "random.shuffle(l)\n",
      "for i, j in l:\n",
      "    cdict[i] = cnt\n",
      "    cnt += 1\n",
      "\n",
      "iters = [60, 70, 80, 90, 100, 200]\n",
      "p = 0\n",
      "\n",
      "for it in iters:\n",
      "    map_data = open('C:\\\\scratch\\\\jiaxingl\\\\yelp_map_data' + str(p) + '.txt', 'w')\n",
      "    label_data = open('C:\\\\scratch\\\\jiaxingl\\\\yelp_label_random' + str(p) + '.txt', 'w')\n",
      "    p += 1\n",
      "    \n",
      "    for data in datas:\n",
      "        unit = math.cos(data[\"latitude\"] / 180 * 3.14) * 111320.7\n",
      "        x = int(data[\"longitude\"] * unit + 0.5)\n",
      "        y = int(data[\"latitude\"] * 110567.2 + 0.5)\n",
      "        map_data.write(str(x) + ' ' + str(y) + '\\n')\n",
      "        ls = [str(cdict[j]) for j in data[\"categories\"] if cdict[j] < it ]\n",
      "        l = str(len(ls)) + ' '\n",
      "        label_data.write(l + ' '.join(ls) + '\\n')\n",
      "    map_data.close()\n",
      "    label_data.close()\n",
      "    "
     ],
     "language": "python",
     "metadata": {},
     "outputs": [],
     "prompt_number": 9
    },
    {
     "cell_type": "code",
     "collapsed": false,
     "input": [],
     "language": "python",
     "metadata": {},
     "outputs": []
    }
   ],
   "metadata": {}
  }
 ]
}