{
 "metadata": {
  "name": ""
 },
 "nbformat": 3,
 "nbformat_minor": 0,
 "worksheets": [
  {
   "cells": [
    {
     "cell_type": "code",
     "collapsed": false,
     "input": [
      "\n",
      "# coding: utf-8\n",
      "\n",
      "# In[1]:\n",
      "\n",
      "import mechanize\n",
      "browser = mechanize.Browser()\n",
      "browser.open('https://courses.cs.sfu.ca/')\n",
      "browser.select_form(nr = 0)\n",
      "browser.form['username'] = 'jiaxingl'\n",
      "browser.form['password'] = 'jiaxing57'\n",
      "browser.submit()\n",
      "\n",
      "browser.open('showRuns.do?contestId=1&search=true&firstId=-1&lastId=-1&problemCode=&handle=liangjiaxing&idStart=&idEnd=&languageIds=2&judgeReplyIds=5')\n",
      "\n",
      "'''\n",
      "# In[4]:\n",
      "\n",
      "s = '/onlinejudge/showSubmission.do?submissionId='\n",
      "p = '/onlinejudge/showProblem.do?problemId='\n",
      "J = 'JavaScript:%20goNext('\n",
      "links = [link.url for link in browser.links()]\n",
      "\n",
      "\n",
      "# In[5]:\n",
      "\n",
      "p_link = ''\n",
      "lastId = '-1'\n",
      "while True:\n",
      "    flag = False\n",
      "    browser.open('http://acm.zju.edu.cn/onlinejudge/showRuns.do?contestId=1&search=true&firstId=-1&lastId='+lastId+'&problemCode=&handle=liangjiaxing&idStart=&idEnd=&languageIds=2&judgeReplyIds=5')\n",
      "    links = [link.url for link in browser.links()]\n",
      "    for link in links:\n",
      "        if link[:len(J)] == J:\n",
      "            lastId = link[len(J):-2]\n",
      "            flag = True\n",
      "        if link[:len(p)] == p:\n",
      "            p_link = 'http://acm.zju.edu.cn'+link\n",
      "        if link[:len(s)] == s:\n",
      "            res = browser.open('http://acm.zju.edu.cn'+link)\n",
      "            code = '/*\\n'+p_link+'\\n*/\\n'+res.read()\n",
      "            f = open('./hwn/ZOJ/'+link[-7:]+'.cpp', 'w')\n",
      "            f.write(code)\n",
      "            f.close()\n",
      "    print lastId\n",
      "    if not flag:\n",
      "        break\n",
      "\n",
      "\n",
      "# In[ ]:\n",
      "\n",
      "print l\n",
      "\n",
      "\n",
      "# In[ ]:\n",
      "'''\n"
     ],
     "language": "python",
     "metadata": {},
     "outputs": [
      {
       "ename": "ImportError",
       "evalue": "No module named mechanize",
       "output_type": "pyerr",
       "traceback": [
        "\u001b[1;31m---------------------------------------------------------------------------\u001b[0m\n\u001b[1;31mImportError\u001b[0m                               Traceback (most recent call last)",
        "\u001b[1;32m<ipython-input-1-0d80867b68d6>\u001b[0m in \u001b[0;36m<module>\u001b[1;34m()\u001b[0m\n\u001b[0;32m      4\u001b[0m \u001b[1;31m# In[1]:\u001b[0m\u001b[1;33m\u001b[0m\u001b[1;33m\u001b[0m\u001b[0m\n\u001b[0;32m      5\u001b[0m \u001b[1;33m\u001b[0m\u001b[0m\n\u001b[1;32m----> 6\u001b[1;33m \u001b[1;32mimport\u001b[0m \u001b[0mmechanize\u001b[0m\u001b[1;33m\u001b[0m\u001b[0m\n\u001b[0m\u001b[0;32m      7\u001b[0m \u001b[0mbrowser\u001b[0m \u001b[1;33m=\u001b[0m \u001b[0mmechanize\u001b[0m\u001b[1;33m.\u001b[0m\u001b[0mBrowser\u001b[0m\u001b[1;33m(\u001b[0m\u001b[1;33m)\u001b[0m\u001b[1;33m\u001b[0m\u001b[0m\n\u001b[0;32m      8\u001b[0m \u001b[0mbrowser\u001b[0m\u001b[1;33m.\u001b[0m\u001b[0mopen\u001b[0m\u001b[1;33m(\u001b[0m\u001b[1;34m'https://courses.cs.sfu.ca/'\u001b[0m\u001b[1;33m)\u001b[0m\u001b[1;33m\u001b[0m\u001b[0m\n",
        "\u001b[1;31mImportError\u001b[0m: No module named mechanize"
       ]
      }
     ],
     "prompt_number": 1
    },
    {
     "cell_type": "code",
     "collapsed": false,
     "input": [],
     "language": "python",
     "metadata": {},
     "outputs": []
    }
   ],
   "metadata": {}
  }
 ]
}