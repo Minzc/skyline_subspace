{
 "metadata": {
  "name": ""
 },
 "nbformat": 3,
 "nbformat_minor": 0,
 "worksheets": [
  {
   "cells": [
    {
     "cell_type": "code",
     "collapsed": false,
     "input": [
      "from operator import itemgetter, attrgetter\n",
      "import random\n",
      "f = open('C:\\\\scratch\\\\jiaxingl\\\\DBLPOnlyCitationOct19.txt', 'r')\n",
      "s = f.read().split('\\n\\n')\n",
      "c_count = {}\n",
      "for paper in s:\n",
      "    x = paper.split('\\n')\n",
      "    a_list = 0\n",
      "    for i in x:\n",
      "        if len(i) < 2: continue\n",
      "        if i[1] == '@':\n",
      "            a_list = 0\n",
      "            if len(i) < 4:\n",
      "                a_list = 1\n",
      "        if i[1] == 'c' and a_list == 0:\n",
      "            c_count[i[2:]] = c_count.get(i[2:], 0) + 1\n",
      "\n",
      "l = c_count.items()\n",
      "\n",
      "print len(l)\n",
      "\n",
      "l = sorted(l, key=itemgetter(1))[::-1]\n",
      "#random.shuffle(l)\n",
      "#l = l[:44]\n",
      "fa = open('C:\\\\scratch\\\\jiaxingl\\\\DBLP_conf.txt', 'w')\n",
      "fb = open('C:\\\\scratch\\\\jiaxingl\\\\DBLP_conf_count.txt', 'w')\n",
      "for key, value in l:\n",
      "    fb.write(str(key) + ' ' + str(value) + ',\\n')\n",
      "    fa.write(str(key) + ',\\n')\n",
      "fb.close()\n",
      "fa.close()\n",
      "\n",
      "import winsound\n",
      "# Play Windows exit sound.\n",
      "winsound.PlaySound(\"SystemExit\", winsound.SND_ALIAS)"
     ],
     "language": "python",
     "metadata": {},
     "outputs": [
      {
       "output_type": "stream",
       "stream": "stdout",
       "text": [
        "7549\n"
       ]
      }
     ],
     "prompt_number": 19
    }
   ],
   "metadata": {}
  }
 ]
}