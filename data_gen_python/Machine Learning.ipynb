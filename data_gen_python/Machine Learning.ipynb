{
 "metadata": {
  "name": ""
 },
 "nbformat": 3,
 "nbformat_minor": 0,
 "worksheets": [
  {
   "cells": [
    {
     "cell_type": "code",
     "collapsed": false,
     "input": [
      "#this line prepares IPython for working with matplotlib\n",
      "%matplotlib inline  \n",
      "\n",
      "# this actually imports matplotlib\n",
      "import matplotlib.pyplot as plt  \n",
      "\n",
      "def f1(x1, x2):\n",
      "    return x2**2 - 2*x1 + 3\n",
      "def f2(x1, x2):\n",
      "    return x1**2 - 2*x2 - 3\n",
      "\n",
      "x = [1, 0, 0, -1, 0, 0, -2]\n",
      "y = [0, 1, -1, 0, 2, -2, 0]\n",
      "\n",
      "print X\n",
      "print Y\n",
      "\n",
      "X = [f1(x[i], y[i]) for i in range(len(x))]\n",
      "Y = [f2(x[i], y[i]) for i in range(len(x))]\n",
      "\n",
      "plt.plot(X[:3], Y[:3], 'ro')\n",
      "plt.plot(X[3:], Y[3:], 'bo')"
     ],
     "language": "python",
     "metadata": {},
     "outputs": [
      {
       "output_type": "stream",
       "stream": "stdout",
       "text": [
        "[1, 4, 4, 5, 7, 7, 7]\n",
        "[-2, -5, -1, -2, -7, 1, 1]\n"
       ]
      },
      {
       "metadata": {},
       "output_type": "pyout",
       "prompt_number": 13,
       "text": [
        "[<matplotlib.lines.Line2D at 0xb875518>]"
       ]
      },
      {
       "metadata": {},
       "output_type": "display_data",
       "png": "[encoded data removed]",
       "text": [
        "<matplotlib.figure.Figure at 0xa888320>"
       ]
      }
     ],
     "prompt_number": 13
    },
    {
     "cell_type": "code",
     "collapsed": false,
     "input": [],
     "language": "python",
     "metadata": {},
     "outputs": []
    }
   ],
   "metadata": {}
  }
 ]
}