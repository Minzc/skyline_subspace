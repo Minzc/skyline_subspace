{
 "metadata": {
  "name": ""
 },
 "nbformat": 3,
 "nbformat_minor": 0,
 "worksheets": [
  {
   "cells": [
    {
     "cell_type": "code",
     "collapsed": false,
     "input": [
      "f_graph = open('C:\\\\scratch\\\\jiaxingl\\\\graph_kronecker20.txt', 'r')\n",
      "f_label = open('C:\\\\scratch\\\\jiaxingl\\\\label_kronecker.txt', 'r')\n",
      "\n",
      "i = 0\n",
      "v_set = {}\n",
      "\n",
      "base = 1\n",
      "ceil = 6\n",
      "\n",
      "iters = range(base, ceil)\n",
      "\n",
      "Bin = 2 ** 20 / ceil\n",
      "\n",
      "cnt = 0\n",
      "\n",
      "for it in iters:\n",
      "    cnt += 1\n",
      "    gname = 'C:\\\\scratch\\\\jiaxingl\\\\graph_kronecker20.txt'\n",
      "    gor = open(gname, 'r')\n",
      "    \n",
      "    gkname = 'C:\\\\scratch\\\\jiaxingl\\\\graph_kronecker'+str(cnt)+'.txt'\n",
      "    gk = open(gkname, 'w')\n",
      "    MAX = Bin * it\n",
      "    print MAX\n",
      "    for line in gor:\n",
      "        x = int(line.split()[0])\n",
      "        y = int(line.split()[1])\n",
      "        if x >= MAX or y >= MAX: continue\n",
      "        gk.write(str(x)+' '+str(y)+'\\n')\n",
      "        v_set[x] = 1\n",
      "        v_set[y] = 1\n",
      "    \n",
      "    gk.close()\n",
      "    gor.close()\n",
      "    #print len(v_set)"
     ],
     "language": "python",
     "metadata": {},
     "outputs": [
      {
       "output_type": "stream",
       "stream": "stdout",
       "text": [
        "174762\n",
        "349524"
       ]
      },
      {
       "output_type": "stream",
       "stream": "stdout",
       "text": [
        "\n",
        "524286"
       ]
      },
      {
       "output_type": "stream",
       "stream": "stdout",
       "text": [
        "\n",
        "699048"
       ]
      },
      {
       "output_type": "stream",
       "stream": "stdout",
       "text": [
        "\n",
        "873810"
       ]
      },
      {
       "output_type": "stream",
       "stream": "stdout",
       "text": [
        "\n"
       ]
      }
     ],
     "prompt_number": 16
    },
    {
     "cell_type": "code",
     "collapsed": false,
     "input": [],
     "language": "python",
     "metadata": {},
     "outputs": []
    }
   ],
   "metadata": {}
  }
 ]
}