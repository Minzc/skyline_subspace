{
 "metadata": {
  "name": ""
 },
 "nbformat": 3,
 "nbformat_minor": 0,
 "worksheets": [
  {
   "cells": [
    {
     "cell_type": "code",
     "collapsed": false,
     "input": [
      "f = open('C:\\\\scratch\\\\jiaxingl\\\\yelp_label_data5.txt', 'r')\n",
      "d = {}\n",
      "tt = 0\n",
      "for line in f:\n",
      "    x = [int(i) for i in line.split()[1:]]\n",
      "    for i in x: d[i] = 1\n",
      "for i in range(521):\n",
      "    if i not in d:\n",
      "        print i\n",
      "\n",
      "import winsound\n",
      "# Play Windows exit sound.\n",
      "winsound.PlaySound(\"SystemExit\", winsound.SND_ALIAS)"
     ],
     "language": "python",
     "metadata": {},
     "outputs": [
      {
       "output_type": "stream",
       "stream": "stdout",
       "text": [
        "520\n"
       ]
      }
     ],
     "prompt_number": 27
    },
    {
     "cell_type": "code",
     "collapsed": false,
     "input": [],
     "language": "python",
     "metadata": {},
     "outputs": [
      {
       "metadata": {},
       "output_type": "pyout",
       "prompt_number": 5,
       "text": [
        "[1, 3, 2]"
       ]
      }
     ],
     "prompt_number": 5
    },
    {
     "cell_type": "code",
     "collapsed": false,
     "input": [],
     "language": "python",
     "metadata": {},
     "outputs": []
    }
   ],
   "metadata": {}
  }
 ]
}