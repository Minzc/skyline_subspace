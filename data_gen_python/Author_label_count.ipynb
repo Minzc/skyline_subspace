{
 "metadata": {
  "name": ""
 },
 "nbformat": 3,
 "nbformat_minor": 0,
 "worksheets": [
  {
   "cells": [
    {
     "cell_type": "code",
     "collapsed": false,
     "input": [
      "f = open('C:\\\\scratch\\\\jiaxingl\\\\DBLP_label_tmp.txt', 'r')\n",
      "g = open('C:\\\\scratch\\\\jiaxingl\\\\DBLP_graph_tmp.txt', 'r')\n",
      "\n",
      "f_graph = open('C:\\\\scratch\\\\jiaxingl\\\\DBLP_graph.txt', 'w')\n",
      "f_label = open('C:\\\\scratch\\\\jiaxingl\\\\DBLP_label.txt', 'w')\n",
      "\n",
      "f_map = open('C:\\\\scratch\\\\jiaxingl\\\\DBLP_author_map.txt', 'w')\n",
      "\n",
      "cnt = 0\n",
      "v = {}\n",
      "e = []\n",
      "mp = {}\n",
      "\n",
      "for line in g:\n",
      "    x = int(line.split()[0])\n",
      "    y = int(line.split()[1])\n",
      "    v[x] = 1\n",
      "    v[y] = 1\n",
      "    e.append((x, y))\n",
      "print len(v)\n",
      "\n",
      "d = {}\n",
      "tt = 0\n",
      "i = -1\n",
      "n = 0\n",
      "vn = {}\n",
      "for line in f:\n",
      "    i += 1\n",
      "    if i not in v: continue\n",
      "    x = int(line.split()[0])\n",
      "    d[x] = d.get(x, 0) + 1\n",
      "    tt += x\n",
      "    #if x == 0: continue\n",
      "    \n",
      "    vn[i] = 1\n",
      "    \n",
      "    l = line.split()[1:]\n",
      "    mp[i] = n\n",
      "    f_map.write(str(i) + ' ' + str(n) + '\\n')\n",
      "    n += 1\n",
      "    f_label.write(str(len(l)) + ' ' + ' '.join(l) + '\\n')\n",
      "\n",
      "for x, y in e:\n",
      "    if x not in vn or y not in vn: continue\n",
      "    f_graph.write(str(mp[x]) + ' ' + str(mp[y]) + '\\n')\n",
      "    \n",
      "f.close()\n",
      "g.close()\n",
      "\n",
      "f_graph.close()\n",
      "f_label.close()\n",
      "\n",
      "print d\n",
      "print tt*1.0 / len(v)\n",
      "import winsound\n",
      "# Play Windows exit sound.\n",
      "winsound.PlaySound(\"SystemExit\", winsound.SND_ALIAS)"
     ],
     "language": "python",
     "metadata": {},
     "outputs": [
      {
       "output_type": "stream",
       "stream": "stdout",
       "text": [
        "906505\n",
        "{0: 837832, 1: 51995, 2: 10182, 3: 3247, 4: 1386, 5: 745, 6: 445, 7: 257, 8: 137, 9: 94, 10: 59, 11: 34, 12: 34, 13: 20, 14: 13, 15: 5, 16: 8, 17: 4, 18: 4, 21: 1, 22: 1, 25: 1, 26: 1}"
       ]
      },
      {
       "output_type": "stream",
       "stream": "stdout",
       "text": [
        "\n",
        "0.110347984843\n"
       ]
      }
     ],
     "prompt_number": 1
    },
    {
     "cell_type": "code",
     "collapsed": false,
     "input": [],
     "language": "python",
     "metadata": {},
     "outputs": []
    }
   ],
   "metadata": {}
  }
 ]
}