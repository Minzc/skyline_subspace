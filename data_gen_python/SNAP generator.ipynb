{
 "metadata": {
  "name": ""
 },
 "nbformat": 3,
 "nbformat_minor": 0,
 "worksheets": [
  {
   "cells": [
    {
     "cell_type": "code",
     "collapsed": false,
     "input": [
      "status = False\n",
      "try:\n",
      "    import snap\n",
      "    version = snap.Version\n",
      "    i = snap.TInt(5)\n",
      "    if i == 5:\n",
      "        status = True\n",
      "except:\n",
      "    pass\n",
      "\n",
      "if status:\n",
      "    print \"SUCCESS, your version of Snap.py is %s\" % (version)\n",
      "else:\n",
      "    print \"*** ERROR, no working Snap.py was found on your computer\"\n"
     ],
     "language": "python",
     "metadata": {},
     "outputs": [
      {
       "output_type": "stream",
       "stream": "stdout",
       "text": [
        "SUCCESS, your version of Snap.py is 1.1\n"
       ]
      }
     ],
     "prompt_number": 1
    },
    {
     "cell_type": "code",
     "collapsed": false,
     "input": [],
     "language": "python",
     "metadata": {},
     "outputs": []
    }
   ],
   "metadata": {}
  }
 ]
}