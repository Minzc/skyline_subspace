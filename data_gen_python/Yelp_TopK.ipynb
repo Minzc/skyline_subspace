{
 "metadata": {
  "name": ""
 },
 "nbformat": 3,
 "nbformat_minor": 0,
 "worksheets": [
  {
   "cells": [
    {
     "cell_type": "code",
     "collapsed": false,
     "input": [
      "import json\n",
      "import math\n",
      "import random\n",
      "from operator import itemgetter, attrgetter\n",
      "\n",
      "json_data = open('V:\\\\xiangbom\\\\yelp_academic_biz.json', 'r')\n",
      "\n",
      "pop_spot = ['Restaurants', 'Shopping', 'Food', 'Beauty and Spas', 'Health and Medical', 'Nightlife', 'Bars', 'Fashion', 'Coffee & Tea', 'Arts & Entertainment', 'Event Planning & Services', 'Pizza', 'Local Services', 'Sandwiches', 'Home Services', 'Active Life', 'American (New)', 'Hair Salons', 'Hotels & Travel', 'American (Traditional)']\n",
      "\n",
      "pop_spot = set(pop_spot)\n",
      "\n",
      "datas = []\n",
      "cdict = {}\n",
      "ccnt = {}\n",
      "catdict = {}\n",
      "catnum = {}\n",
      "cnt = 0\n",
      "for line in json_data:\n",
      "    dt = json.loads(line)\n",
      "    datas.append(dt)\n",
      "    for i in dt['categories'] + dt[\"neighborhoods\"] + dt['schools']:\n",
      "        ccnt[i] = ccnt.get(i, 0) + 1\n",
      "    for i in dt['categories']:\n",
      "        catdict[i] = catdict.get(i, 0) + 1\n",
      "\n",
      "print len(ccnt)\n",
      "json_data.close()\n",
      "#l = sorted(ccnt.iteritems(), key=itemgetter(1))[::-1]\n",
      "\n",
      "l = [i for i, j in ccnt.iteritems()][::-1]\n",
      "#random.shuffle(l)\n",
      "for i in l:\n",
      "    cdict[i] = cnt\n",
      "    cnt += 1\n",
      "lcat = sorted(catdict.iteritems(), key=itemgetter(1))[::-1]\n",
      "print \"', '\".join([i for i, j in lcat[:20]])\n",
      "lcat = [i for i, j in catdict.iteritems()][::-1]\n",
      "cnum = 0\n",
      "for i in l:\n",
      "    catnum[i] = cnum\n",
      "    cnum += 1    \n",
      "\n",
      "iters = [10, 110, 210, 310, 410, 510, 160]\n",
      "p = 0\n",
      "\n",
      "#print '\\n'.join([i for i, j in l])\n",
      "rating = {}\n",
      "for i, data in enumerate(datas):\n",
      "    for j in data['categories']:\n",
      "        if j not in rating:\n",
      "            rating[j] = []\n",
      "        rating[j].append((i, data[\"stars\"]))\n",
      " \n",
      "top = {}\n",
      "\n",
      "for key, val in rating.iteritems():\n",
      "    val = sorted(val, key=itemgetter(1))[::-1][:1]\n",
      "    if key not in top:\n",
      "        top[key] = {}\n",
      "    for i, j in val:\n",
      "        top[key][i] = 1;\n",
      "#print top\n",
      "\n",
      "for it in iters:\n",
      "    map_data = open('C:\\\\scratch\\\\jiaxingl\\\\yelp_map_data' + str(p) + '.txt', 'w')\n",
      "    label_data = open('C:\\\\scratch\\\\jiaxingl\\\\yelp_label_data' + str(p) + '.txt', 'w')\n",
      "    p += 1\n",
      "    \n",
      "    for i, data in enumerate(datas):\n",
      "        unit = math.cos(data[\"latitude\"] / 180 * 3.14) * 111320.7\n",
      "        x = int(data[\"longitude\"] * unit + 0.5)\n",
      "        y = int(data[\"latitude\"] * 110567.2 + 0.5)\n",
      "        map_data.write(str(x) + ' ' + str(y) + '\\n')\n",
      "        ls = []\n",
      "        for j in data['categories']:\n",
      "            if i in top[j] and catnum[j] < it:\n",
      "                ls.append(str(cdict[j]))\n",
      "        for j in data[\"neighborhoods\"] + data['schools']:\n",
      "            ls.append(str(cdict[j]))\n",
      "        l = str(len(ls)) + ' '\n",
      "        label_data.write(l + ' '.join(ls) + '\\n')\n",
      "    map_data.close()\n",
      "    label_data.close()\n",
      "    "
     ],
     "language": "python",
     "metadata": {},
     "outputs": [
      {
       "output_type": "stream",
       "stream": "stdout",
       "text": [
        "610\n",
        "Restaurants', 'Shopping', 'Food', 'Beauty and Spas', 'Health and Medical', 'Nightlife', 'Bars', 'Fashion', 'Coffee & Tea', 'Arts & Entertainment', 'Event Planning & Services', 'Pizza', 'Local Services', 'Sandwiches', 'Home Services', 'Active Life', 'American (New)', 'Hair Salons', 'Hotels & Travel', 'American (Traditional)\n"
       ]
      }
     ],
     "prompt_number": 69
    },
    {
     "cell_type": "code",
     "collapsed": false,
     "input": [
      "\n"
     ],
     "language": "python",
     "metadata": {},
     "outputs": []
    }
   ],
   "metadata": {}
  }
 ]
}