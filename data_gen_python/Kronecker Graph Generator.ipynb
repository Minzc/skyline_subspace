{
 "metadata": {
  "name": ""
 },
 "nbformat": 3,
 "nbformat_minor": 0,
 "worksheets": [
  {
   "cells": [
    {
     "cell_type": "code",
     "collapsed": false,
     "input": [
      "iters = range(15, 21)\n",
      "import numpy as np\n",
      "import random\n",
      "\n",
      "N = 2 ** 20 + 1\n",
      "a, m = 8, 0.5\n",
      "s = 6 * np.random.pareto(a, N) + m\n",
      "l = [[int(i)] for i in s]\n",
      "for i in range(N):\n",
      "    l[i] = l[i] + random.sample(xrange(1000), l[i][0])\n",
      "\n",
      "for it in iters:\n",
      "    fname = 'C:\\\\scratch\\\\jiaxingl\\\\matlab\\\\graph'+str(it)+'.txt'\n",
      "    f = open(fname, 'r')\n",
      "    \n",
      "    gkname = 'C:\\\\scratch\\\\jiaxingl\\\\graph_kronecker'+str(it)+'.txt'\n",
      "    gk = open(gkname, 'w')\n",
      "    \n",
      "    f_labelname = 'C:\\\\scratch\\\\jiaxingl\\\\label_kronecker'+str(it)+'.txt'\n",
      "    f_label = open(f_labelname, 'w')\n",
      "    \n",
      "    e_set = {}\n",
      "    v_set = {}\n",
      "    N = 0\n",
      "    for line in f:\n",
      "        x = int(line.split()[0])\n",
      "        y = int(line.split()[1])\n",
      "        v_set[x] = v_set.get(x, 0) + 1\n",
      "        v_set[y] = v_set.get(y, 0) + 1\n",
      "        if x > N: N = x\n",
      "        if y > N: N = y\n",
      "        if x > y:\n",
      "            x, y = y, x\n",
      "        if x != y and (x, y) not in e_set:    \n",
      "            e_set[(x, y)] = 1\n",
      "            gk.write(str(x)+' '+str(y)+'\\n')\n",
      "    \n",
      "    #print 'edge file completed'\n",
      "    N += 1\n",
      "    #l = [[] for i in range(N)]\n",
      "    for i in range(N):\n",
      "        #l[i] = random.sample(xrange(1000), v_set.get(i, 0) / 4)\n",
      "        #l[i] = [len(l[i])] + l[i]\n",
      "        f_label.write(' '.join([str(j) for j in l[i]]) + '\\n')\n",
      "    print len(v_set)\n",
      "    \n",
      "    f.close()\n",
      "    gk.close()\n",
      "    f_label.close()"
     ],
     "language": "python",
     "metadata": {},
     "outputs": [
      {
       "output_type": "stream",
       "stream": "stdout",
       "text": [
        "31767\n",
        "63182"
       ]
      },
      {
       "output_type": "stream",
       "stream": "stdout",
       "text": [
        "\n",
        "126476"
       ]
      },
      {
       "output_type": "stream",
       "stream": "stdout",
       "text": [
        "\n",
        "252523"
       ]
      },
      {
       "output_type": "stream",
       "stream": "stdout",
       "text": [
        "\n",
        "504646"
       ]
      },
      {
       "output_type": "stream",
       "stream": "stdout",
       "text": [
        "\n",
        "1008513"
       ]
      },
      {
       "output_type": "stream",
       "stream": "stdout",
       "text": [
        "\n"
       ]
      }
     ],
     "prompt_number": 12
    },
    {
     "cell_type": "code",
     "collapsed": false,
     "input": [],
     "language": "python",
     "metadata": {},
     "outputs": []
    }
   ],
   "metadata": {}
  }
 ]
}