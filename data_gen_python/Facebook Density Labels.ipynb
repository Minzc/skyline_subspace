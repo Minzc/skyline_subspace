{
 "metadata": {
  "name": ""
 },
 "nbformat": 3,
 "nbformat_minor": 0,
 "worksheets": [
  {
   "cells": [
    {
     "cell_type": "code",
     "collapsed": false,
     "input": [
      "import random\n",
      "import numpy as np\n",
      "iters = range(5)\n",
      "N = 4039\n",
      "M = 15\n",
      "Per = [5, 20, 40, 200, 1000]\n",
      "\n",
      "randnum = np.random.randint(1000, size=N * M)\n",
      "\n",
      "for it in iters:\n",
      "    f_labelname = 'C:\\\\scratch\\\\jiaxingl\\\\label_fb_dense' + str(it) + '.txt'\n",
      "    f_label = open(f_labelname, 'w')\n",
      "    for i in range(N):\n",
      "        l = []\n",
      "        for j in range(M):\n",
      "            if randnum[i * M + j] % Per[it] == 0:\n",
      "                l.append(j)\n",
      "        l = [len(l)] + l\n",
      "        f_label.write(' '.join([str(j) for j in l]) + '\\n')\n",
      "    f_label.close()\n",
      "                \n",
      "    "
     ],
     "language": "python",
     "metadata": {},
     "outputs": [],
     "prompt_number": 11
    },
    {
     "cell_type": "code",
     "collapsed": false,
     "input": [],
     "language": "python",
     "metadata": {},
     "outputs": []
    }
   ],
   "metadata": {}
  }
 ]
}