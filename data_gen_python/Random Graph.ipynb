{
 "metadata": {
  "name": ""
 },
 "nbformat": 3,
 "nbformat_minor": 0,
 "worksheets": [
  {
   "cells": [
    {
     "cell_type": "code",
     "collapsed": false,
     "input": [
      "import numpy\n",
      "import random\n",
      "N = 1000000\n",
      "f_graph = open('C:\\\\scratch\\\\jiaxingl\\\\DBLP_graph_syn.txt', 'w')\n",
      "f_label = open('C:\\\\scratch\\\\jiaxingl\\\\DBLP_label_syn.txt', 'w')\n",
      "k = int(2 * N)\n",
      "e = {}\n",
      "for i in range(k):\n",
      "    while True:\n",
      "        x = numpy.random.randint(N)\n",
      "        y = numpy.random.randint(N)\n",
      "        if x > y:\n",
      "            t = x\n",
      "            x = y\n",
      "            y = t\n",
      "        if x != y and (x, y) not in e:\n",
      "            break\n",
      "    f_graph.write(str(x)+' '+str(y)+'\\n')\n",
      "    e[(x, y)] = 1\n",
      "l = [[] for i in range(N)]    \n",
      "for i in range(1000):\n",
      "    X = random.sample(range(N), 10000)\n",
      "    for x in X:\n",
      "        l[x].append(str(i))\n",
      "for i in range(N):\n",
      "    f_label.write(str(len(l[i])) + ' ' + ' '.join(l[i]) + '\\n')\n",
      "f_graph.close()\n",
      "f_label.close()"
     ],
     "language": "python",
     "metadata": {},
     "outputs": [],
     "prompt_number": 2
    },
    {
     "cell_type": "code",
     "collapsed": false,
     "input": [],
     "language": "python",
     "metadata": {},
     "outputs": []
    }
   ],
   "metadata": {}
  }
 ]
}