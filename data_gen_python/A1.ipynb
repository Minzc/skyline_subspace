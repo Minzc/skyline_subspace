{
 "metadata": {
  "name": ""
 },
 "nbformat": 3,
 "nbformat_minor": 0,
 "worksheets": [
  {
   "cells": [
    {
     "cell_type": "code",
     "collapsed": false,
     "input": [
      "'''\n",
      "unzip all the student files.\n",
      "'''\n",
      "\n",
      "import os\n",
      "import zipfile\n",
      "import tarfile\n",
      "\n",
      "from os.path import join, getsize\n",
      "\n",
      "path = 'C:\\\\scratch\\\\jiaxingl\\\\workspace2\\\\a4'\n",
      "\n",
      "for d in os.listdir(path):\n",
      "    subpath = join(path, d)\n",
      "    for root, dirs, files in os.walk(subpath):\n",
      "        for name in files:\n",
      "            if name.endswith('.zip'):\n",
      "                with zipfile.ZipFile(join(root, name), \"r\") as z:\n",
      "                    z.extractall(root)\n",
      "            '''\n",
      "            if name.endswith('.tar.gz'):\n",
      "                with tarfile.TarFile(join(root, name), \"r\") as z:\n",
      "                    z.extractall(root)\n",
      "            '''\n",
      "\n",
      "    "
     ],
     "language": "python",
     "metadata": {},
     "outputs": [],
     "prompt_number": 13
    },
    {
     "cell_type": "code",
     "collapsed": false,
     "input": [
      "'''\n",
      "copy the src folder to the root of each student folder\n",
      "'''\n",
      "import os\n",
      "import shutil\n",
      "from os.path import join, getsize\n",
      "\n",
      "for d in os.listdir(path):\n",
      "    subpath = join(path, d)\n",
      "    flag = 0\n",
      "    for root, dirs, files in os.walk(subpath):\n",
      "        for folder in dirs:\n",
      "            if folder == 'src':\n",
      "                flag = 1\n",
      "                #call(['xcopy', join(root, folder), join(subpath, folder)])\n",
      "                if not os.path.isdir(join(subpath, folder)):\n",
      "                    shutil.copytree(join(root, folder), join(subpath, folder))\n",
      "    \n",
      "    if flag == 0:\n",
      "        print subpath\n",
      "        "
     ],
     "language": "python",
     "metadata": {},
     "outputs": [
      {
       "output_type": "stream",
       "stream": "stdout",
       "text": [
        "C:\\scratch\\jiaxingl\\workspace2\\a4\\summary.csv\n"
       ]
      }
     ],
     "prompt_number": 14
    },
    {
     "cell_type": "code",
     "collapsed": false,
     "input": [
      "'''\n",
      "Generate the .bat file to run\n",
      "'''\n",
      "\n",
      "import os\n",
      "from subprocess import call\n",
      "\n",
      "path = 'C:\\\\scratch\\\\jiaxingl\\\\workspace2\\\\a4'\n",
      "\n",
      "for d in os.listdir(path):\n",
      "    subpath = join(path, d)\n",
      "    if os.path.isdir(subpath):\n",
      "        for sd in os.listdir(subpath):\n",
      "            if sd == 'src':\n",
      "                #print join(subpath, sd)\n",
      "                src = join(subpath, sd)\n",
      "                print 'javac -classpath %s %s' % (src, join(src, 'applications\\\\BuntingCompiler.java'))"
     ],
     "language": "python",
     "metadata": {},
     "outputs": [
      {
       "output_type": "stream",
       "stream": "stdout",
       "text": [
        "javac -classpath C:\\scratch\\jiaxingl\\workspace2\\a4\\abrykajl\\src C:\\scratch\\jiaxingl\\workspace2\\a4\\abrykajl\\src\\applications\\BuntingCompiler.java\n",
        "javac -classpath C:\\scratch\\jiaxingl\\workspace2\\a4\\adpenner\\src C:\\scratch\\jiaxingl\\workspace2\\a4\\adpenner\\src\\applications\\BuntingCompiler.java\n",
        "javac -classpath C:\\scratch\\jiaxingl\\workspace2\\a4\\aoa3\\src C:\\scratch\\jiaxingl\\workspace2\\a4\\aoa3\\src\\applications\\BuntingCompiler.java\n",
        "javac -classpath C:\\scratch\\jiaxingl\\workspace2\\a4\\azitouni\\src C:\\scratch\\jiaxingl\\workspace2\\a4\\azitouni\\src\\applications\\BuntingCompiler.java\n",
        "javac -classpath C:\\scratch\\jiaxingl\\workspace2\\a4\\blockhar\\src C:\\scratch\\jiaxingl\\workspace2\\a4\\blockhar\\src\\applications\\BuntingCompiler.java\n",
        "javac -classpath C:\\scratch\\jiaxingl\\workspace2\\a4\\bmills\\src C:\\scratch\\jiaxingl\\workspace2\\a4\\bmills\\src\\applications\\BuntingCompiler.java\n",
        "javac -classpath C:\\scratch\\jiaxingl\\workspace2\\a4\\botaow\\src C:\\scratch\\jiaxingl\\workspace2\\a4\\botaow\\src\\applications\\BuntingCompiler.java\n",
        "javac -classpath C:\\scratch\\jiaxingl\\workspace2\\a4\\caoshanc\\src C:\\scratch\\jiaxingl\\workspace2\\a4\\caoshanc\\src\\applications\\BuntingCompiler.java\n",
        "javac -classpath C:\\scratch\\jiaxingl\\workspace2\\a4\\cbrady\\src C:\\scratch\\jiaxingl\\workspace2\\a4\\cbrady\\src\\applications\\BuntingCompiler.java\n",
        "javac -classpath C:\\scratch\\jiaxingl\\workspace2\\a4\\dla126\\src C:\\scratch\\jiaxingl\\workspace2\\a4\\dla126\\src\\applications\\BuntingCompiler.java\n",
        "javac -classpath C:\\scratch\\jiaxingl\\workspace2\\a4\\gaofang\\src C:\\scratch\\jiaxingl\\workspace2\\a4\\gaofang\\src\\applications\\BuntingCompiler.java\n",
        "javac -classpath C:\\scratch\\jiaxingl\\workspace2\\a4\\hanningw\\src C:\\scratch\\jiaxingl\\workspace2\\a4\\hanningw\\src\\applications\\BuntingCompiler.java\n",
        "javac -classpath C:\\scratch\\jiaxingl\\workspace2\\a4\\harveya\\src C:\\scratch\\jiaxingl\\workspace2\\a4\\harveya\\src\\applications\\BuntingCompiler.java\n",
        "javac -classpath C:\\scratch\\jiaxingl\\workspace2\\a4\\hongpum\\src C:\\scratch\\jiaxingl\\workspace2\\a4\\hongpum\\src\\applications\\BuntingCompiler.java\n",
        "javac -classpath C:\\scratch\\jiaxingl\\workspace2\\a4\\iyto\\src C:\\scratch\\jiaxingl\\workspace2\\a4\\iyto\\src\\applications\\BuntingCompiler.java\n",
        "javac -classpath C:\\scratch\\jiaxingl\\workspace2\\a4\\jba30\\src C:\\scratch\\jiaxingl\\workspace2\\a4\\jba30\\src\\applications\\BuntingCompiler.java\n",
        "javac -classpath C:\\scratch\\jiaxingl\\workspace2\\a4\\jescamil\\src C:\\scratch\\jiaxingl\\workspace2\\a4\\jescamil\\src\\applications\\BuntingCompiler.java\n",
        "javac -classpath C:\\scratch\\jiaxingl\\workspace2\\a4\\jsaucier\\src C:\\scratch\\jiaxingl\\workspace2\\a4\\jsaucier\\src\\applications\\BuntingCompiler.java\n",
        "javac -classpath C:\\scratch\\jiaxingl\\workspace2\\a4\\jtbell\\src C:\\scratch\\jiaxingl\\workspace2\\a4\\jtbell\\src\\applications\\BuntingCompiler.java\n",
        "javac -classpath C:\\scratch\\jiaxingl\\workspace2\\a4\\kawahc\\src C:\\scratch\\jiaxingl\\workspace2\\a4\\kawahc\\src\\applications\\BuntingCompiler.java\n",
        "javac -classpath C:\\scratch\\jiaxingl\\workspace2\\a4\\lijunl\\src C:\\scratch\\jiaxingl\\workspace2\\a4\\lijunl\\src\\applications\\BuntingCompiler.java\n",
        "javac -classpath C:\\scratch\\jiaxingl\\workspace2\\a4\\ljusman\\src C:\\scratch\\jiaxingl\\workspace2\\a4\\ljusman\\src\\applications\\BuntingCompiler.java\n",
        "javac -classpath C:\\scratch\\jiaxingl\\workspace2\\a4\\miliu\\src C:\\scratch\\jiaxingl\\workspace2\\a4\\miliu\\src\\applications\\BuntingCompiler.java\n",
        "javac -classpath C:\\scratch\\jiaxingl\\workspace2\\a4\\qfan\\src C:\\scratch\\jiaxingl\\workspace2\\a4\\qfan\\src\\applications\\BuntingCompiler.java\n",
        "javac -classpath C:\\scratch\\jiaxingl\\workspace2\\a4\\ravt\\src C:\\scratch\\jiaxingl\\workspace2\\a4\\ravt\\src\\applications\\BuntingCompiler.java\n",
        "javac -classpath C:\\scratch\\jiaxingl\\workspace2\\a4\\shovonr\\src C:\\scratch\\jiaxingl\\workspace2\\a4\\shovonr\\src\\applications\\BuntingCompiler.java\n",
        "javac -classpath C:\\scratch\\jiaxingl\\workspace2\\a4\\sshabbir\\src C:\\scratch\\jiaxingl\\workspace2\\a4\\sshabbir\\src\\applications\\BuntingCompiler.java\n",
        "javac -classpath C:\\scratch\\jiaxingl\\workspace2\\a4\\wya6\\src C:\\scratch\\jiaxingl\\workspace2\\a4\\wya6\\src\\applications\\BuntingCompiler.java\n",
        "javac -classpath C:\\scratch\\jiaxingl\\workspace2\\a4\\wza58\\src C:\\scratch\\jiaxingl\\workspace2\\a4\\wza58\\src\\applications\\BuntingCompiler.java\n",
        "javac -classpath C:\\scratch\\jiaxingl\\workspace2\\a4\\xya46\\src C:\\scratch\\jiaxingl\\workspace2\\a4\\xya46\\src\\applications\\BuntingCompiler.java\n",
        "javac -classpath C:\\scratch\\jiaxingl\\workspace2\\a4\\ytl11\\src C:\\scratch\\jiaxingl\\workspace2\\a4\\ytl11\\src\\applications\\BuntingCompiler.java\n",
        "javac -classpath C:\\scratch\\jiaxingl\\workspace2\\a4\\yuel\\src C:\\scratch\\jiaxingl\\workspace2\\a4\\yuel\\src\\applications\\BuntingCompiler.java\n",
        "javac -classpath C:\\scratch\\jiaxingl\\workspace2\\a4\\zhichaoy\\src C:\\scratch\\jiaxingl\\workspace2\\a4\\zhichaoy\\src\\applications\\BuntingCompiler.java\n"
       ]
      }
     ],
     "prompt_number": 15
    },
    {
     "cell_type": "code",
     "collapsed": false,
     "input": [
      "import os\n",
      "from os.path import join, getsize\n",
      "\n",
      "for d in os.listdir(path):\n",
      "    subpath = join(path, d)\n",
      "    if os.path.isdir(subpath):\n",
      "        print '%s(\"..\" + File.separator + \"a4\" + File.separator + \"%s\" + File.separator + \"src\"),'%(d.upper(), d)"
     ],
     "language": "python",
     "metadata": {},
     "outputs": [
      {
       "output_type": "stream",
       "stream": "stdout",
       "text": [
        "ABRYKAJL(\"..\" + File.separator + \"a4\" + File.separator + \"abrykajl\" + File.separator + \"src\"),\n",
        "ADPENNER(\"..\" + File.separator + \"a4\" + File.separator + \"adpenner\" + File.separator + \"src\"),\n",
        "AOA3(\"..\" + File.separator + \"a4\" + File.separator + \"aoa3\" + File.separator + \"src\"),\n",
        "AZITOUNI(\"..\" + File.separator + \"a4\" + File.separator + \"azitouni\" + File.separator + \"src\"),\n",
        "BLOCKHAR(\"..\" + File.separator + \"a4\" + File.separator + \"blockhar\" + File.separator + \"src\"),\n",
        "BMILLS(\"..\" + File.separator + \"a4\" + File.separator + \"bmills\" + File.separator + \"src\"),\n",
        "BOTAOW(\"..\" + File.separator + \"a4\" + File.separator + \"botaow\" + File.separator + \"src\"),\n",
        "CAOSHANC(\"..\" + File.separator + \"a4\" + File.separator + \"caoshanc\" + File.separator + \"src\"),\n",
        "CBRADY(\"..\" + File.separator + \"a4\" + File.separator + \"cbrady\" + File.separator + \"src\"),\n",
        "DLA126(\"..\" + File.separator + \"a4\" + File.separator + \"dla126\" + File.separator + \"src\"),\n",
        "GAOFANG(\"..\" + File.separator + \"a4\" + File.separator + \"gaofang\" + File.separator + \"src\"),\n",
        "HANNINGW(\"..\" + File.separator + \"a4\" + File.separator + \"hanningw\" + File.separator + \"src\"),\n",
        "HARVEYA(\"..\" + File.separator + \"a4\" + File.separator + \"harveya\" + File.separator + \"src\"),\n",
        "HONGPUM(\"..\" + File.separator + \"a4\" + File.separator + \"hongpum\" + File.separator + \"src\"),\n",
        "IYTO(\"..\" + File.separator + \"a4\" + File.separator + \"iyto\" + File.separator + \"src\"),\n",
        "JBA30(\"..\" + File.separator + \"a4\" + File.separator + \"jba30\" + File.separator + \"src\"),\n",
        "JESCAMIL(\"..\" + File.separator + \"a4\" + File.separator + \"jescamil\" + File.separator + \"src\"),\n",
        "JSAUCIER(\"..\" + File.separator + \"a4\" + File.separator + \"jsaucier\" + File.separator + \"src\"),\n",
        "JTBELL(\"..\" + File.separator + \"a4\" + File.separator + \"jtbell\" + File.separator + \"src\"),\n",
        "KAWAHC(\"..\" + File.separator + \"a4\" + File.separator + \"kawahc\" + File.separator + \"src\"),\n",
        "LIJUNL(\"..\" + File.separator + \"a4\" + File.separator + \"lijunl\" + File.separator + \"src\"),\n",
        "LJUSMAN(\"..\" + File.separator + \"a4\" + File.separator + \"ljusman\" + File.separator + \"src\"),\n",
        "MILIU(\"..\" + File.separator + \"a4\" + File.separator + \"miliu\" + File.separator + \"src\"),\n",
        "QFAN(\"..\" + File.separator + \"a4\" + File.separator + \"qfan\" + File.separator + \"src\"),\n",
        "RAVT(\"..\" + File.separator + \"a4\" + File.separator + \"ravt\" + File.separator + \"src\"),\n",
        "SHOVONR(\"..\" + File.separator + \"a4\" + File.separator + \"shovonr\" + File.separator + \"src\"),\n",
        "SSHABBIR(\"..\" + File.separator + \"a4\" + File.separator + \"sshabbir\" + File.separator + \"src\"),\n",
        "WYA6(\"..\" + File.separator + \"a4\" + File.separator + \"wya6\" + File.separator + \"src\"),\n",
        "WZA58(\"..\" + File.separator + \"a4\" + File.separator + \"wza58\" + File.separator + \"src\"),\n",
        "XYA46(\"..\" + File.separator + \"a4\" + File.separator + \"xya46\" + File.separator + \"src\"),\n",
        "YTL11(\"..\" + File.separator + \"a4\" + File.separator + \"ytl11\" + File.separator + \"src\"),\n",
        "YUEL(\"..\" + File.separator + \"a4\" + File.separator + \"yuel\" + File.separator + \"src\"),\n",
        "ZHICHAOY(\"..\" + File.separator + \"a4\" + File.separator + \"zhichaoy\" + File.separator + \"src\"),\n"
       ]
      }
     ],
     "prompt_number": 17
    },
    {
     "cell_type": "code",
     "collapsed": false,
     "input": [
      "'''\n",
      "Computing the late penalty\n",
      "'''\n",
      "\n",
      "path = 'C:\\\\scratch\\\\jiaxingl\\\\workspace2\\\\a4'\n",
      "\n",
      "penalty = {}\n",
      "\n",
      "for d in os.listdir(path):\n",
      "    late = join(join(path, d), 'LATE.txt')\n",
      "    if os.path.isfile(late):\n",
      "        f = open(late, 'r')\n",
      "        f.next()\n",
      "        f.next()\n",
      "        x = f.next().split()[2]\n",
      "        if len(x) > 5:\n",
      "            x = 0\n",
      "        else:\n",
      "            x = int(x)\n",
      "        x += 1\n",
      "        if x >= 6:\n",
      "            x -= 2\n",
      "        elif x >= 4:\n",
      "            x = 4\n",
      "        penalty[d] = 1 - x * 0.1\n",
      "        print d, penalty[d]\n",
      "        f.close()"
     ],
     "language": "python",
     "metadata": {},
     "outputs": [
      {
       "output_type": "stream",
       "stream": "stdout",
       "text": [
        "hanningw 0.9\n",
        "hongpum 0.8\n",
        "kawahc 0.9\n",
        "ljusman 0.9\n",
        "xya46 0.9\n"
       ]
      }
     ],
     "prompt_number": 29
    },
    {
     "cell_type": "code",
     "collapsed": false,
     "input": [
      "'''\n",
      "Evaluate the results\n",
      "'''\n",
      "\n",
      "path2 = 'C:\\\\scratch\\\\jiaxingl\\\\workspace2\\\\trunk\\\\output'\n",
      "\n",
      "import csv\n",
      "import os\n",
      "from os.path import join, getsize\n",
      "\n",
      "csvwrite = open(path2+'\\\\summary_A1.csv', 'wb')\n",
      "spamwriter = csv.writer(csvwrite, delimiter=',',\n",
      "                            quotechar='\"', quoting=csv.QUOTE_MINIMAL)\n",
      "count = 0\n",
      "ave = ['average']\n",
      "\n",
      "csvwrite2 = open(path2+'\\\\A1_grade.csv', 'wb')\n",
      "spamwriter2 = csv.writer(csvwrite2, delimiter=',',\n",
      "                            quotechar='\"', quoting=csv.QUOTE_MINIMAL)\n",
      "\n",
      "for d in os.listdir(path2):\n",
      "    if d.endswith('_summary.csv'):\n",
      "        count += 1\n",
      "        subpath = join(path2, d)\n",
      "        with open(subpath, 'rb') as csvfile:\n",
      "            spamreader = csv.reader(csvfile, delimiter=',', quotechar='\"')\n",
      "            header = spamreader.next()\n",
      "            p = spamreader.next()\n",
      "            p[1:] = map(float, p[1:])\n",
      "            p.append(sum(p[1:]))\n",
      "            \n",
      "            header.append('sum')\n",
      "            if count == 1:\n",
      "                spamwriter.writerow(header)\n",
      "            if count == 1:\n",
      "                ave = ave + p[1:]\n",
      "            else:\n",
      "                ave[1:] = [ave[i] + p[i] for i in range(1, len(p))]\n",
      "            spamwriter.writerow(p)\n",
      "            #print [p[0], p[-1] * penalty.get(p[0], 1)]\n",
      "            spamwriter2.writerow([p[0], \"%.2f\" % (p[-1] * penalty.get(p[0], 1))])\n",
      "        \n",
      "ave[1:] = [ave[i] / count for i in range(1, len(ave))]\n",
      "spamwriter.writerow(ave)\n",
      "csvwrite.close()\n",
      "csvwrite2.close()\n",
      "            \n",
      "            \n",
      "            "
     ],
     "language": "python",
     "metadata": {},
     "outputs": [],
     "prompt_number": 34
    },
    {
     "cell_type": "code",
     "collapsed": false,
     "input": [
      "'''\n",
      "Sending summary to every student.\n",
      "'''\n",
      "\n",
      "import smtplib\n",
      "\n",
      "import mimetypes\n",
      "\n",
      "from os.path import basename\n",
      "from email.mime.base import MIMEBase\n",
      "from email.mime.multipart import MIMEMultipart\n",
      "from email.mime.text import MIMEText\n",
      "from email.utils import COMMASPACE, formatdate\n",
      "\n",
      "def send_mail(send_from, send_to, subject, text, files=None,\n",
      "              server=\"connect.sfu.ca\"):\n",
      "    assert isinstance(send_to, list)\n",
      "    print send_to[0]\n",
      "    msg = MIMEMultipart()\n",
      "    msg.attach(MIMEText(text))\n",
      "    msg['Subject'] = subject\n",
      "    msg['From'] = send_from\n",
      "    msg['To'] = COMMASPACE.join(send_to)\n",
      "    for f in files or []:\n",
      "        with open(f, \"rb\") as fil:\n",
      "            ctype, encoding = mimetypes.guess_type(f)\n",
      "            maintype, subtype = ctype.split('/', 1)\n",
      "            attm = MIMEBase(maintype, subtype)\n",
      "            attm.set_payload(fil.read())\n",
      "            attm.add_header('Content-Disposition', 'attachment', filename=basename(f))\n",
      "            msg.attach(attm)\n",
      "    smtp = smtplib.SMTP(server)\n",
      "    #smtp.starttls()\n",
      "    smtp.sendmail(send_from, send_to, msg.as_string())\n",
      "    smtp.close()\n",
      "\n",
      "    \n",
      "import os\n",
      "from subprocess import call\n",
      "import time\n",
      "path = 'C:\\\\scratch\\\\jiaxingl\\\\workspace2\\\\a4'\n",
      "\n",
      "Subject = 'CMPT 379 Assignment 4 Summary'\n",
      "Content = 'Hi,\\n\\nThis is the correct summary of your Assignment 4. Sorry for the inconvenience. Have a nice day!\\n\\nBest,\\nJiaxing'\n",
      "\n",
      "i = 6\n",
      "\n",
      "for d in os.listdir(path):\n",
      "    subpath = join(path, d)\n",
      "    i -= 1\n",
      "    if os.path.isdir(subpath) and i >= 0:\n",
      "        time.sleep(1)\n",
      "        send_mail('jiaxingl@sfu.ca', [d+'@sfu.ca'], Subject, Content, ['C:\\\\scratch\\\\jiaxingl\\\\workspace2\\\\trunk\\\\output\\\\'+d+'.csv'])"
     ],
     "language": "python",
     "metadata": {},
     "outputs": [
      {
       "output_type": "stream",
       "stream": "stdout",
       "text": [
        "abrykajl@sfu.ca\n",
        "adpenner@sfu.ca"
       ]
      },
      {
       "output_type": "stream",
       "stream": "stdout",
       "text": [
        "\n",
        "aoa3@sfu.ca"
       ]
      },
      {
       "output_type": "stream",
       "stream": "stdout",
       "text": [
        "\n",
        "azitouni@sfu.ca"
       ]
      },
      {
       "output_type": "stream",
       "stream": "stdout",
       "text": [
        "\n",
        "blockhar@sfu.ca"
       ]
      },
      {
       "output_type": "stream",
       "stream": "stdout",
       "text": [
        "\n",
        "bmills@sfu.ca"
       ]
      },
      {
       "output_type": "stream",
       "stream": "stdout",
       "text": [
        "\n"
       ]
      }
     ],
     "prompt_number": 36
    },
    {
     "cell_type": "code",
     "collapsed": false,
     "input": [],
     "language": "python",
     "metadata": {},
     "outputs": []
    }
   ],
   "metadata": {}
  }
 ]
}