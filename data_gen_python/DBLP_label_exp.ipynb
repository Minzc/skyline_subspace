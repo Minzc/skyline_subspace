{
 "metadata": {
  "name": ""
 },
 "nbformat": 3,
 "nbformat_minor": 0,
 "worksheets": [
  {
   "cells": [
    {
     "cell_type": "code",
     "collapsed": false,
     "input": [
      "for it in range(1, 6):\n",
      "    MAX = it * 200\n",
      "    f = open('C:\\\\scratch\\\\jiaxingl\\\\DBLP_label.txt', 'r')\n",
      "    f_label = open('C:\\\\scratch\\\\jiaxingl\\\\DBLP_label'+str(it)+'.txt', 'w')\n",
      "    for line in f:\n",
      "        x = []\n",
      "        for i in line.split()[1:]:\n",
      "            if int(i) < MAX:\n",
      "                x.append(i)\n",
      "            if int(i) == 1000:\n",
      "                x.append(str(MAX))\n",
      "        x = [str(len(x))] + x\n",
      "        f_label.write(' '.join(x)+'\\n')\n",
      "    f.close()\n",
      "    f_label.close()"
     ],
     "language": "python",
     "metadata": {},
     "outputs": [],
     "prompt_number": 2
    },
    {
     "cell_type": "code",
     "collapsed": false,
     "input": [],
     "language": "python",
     "metadata": {},
     "outputs": []
    }
   ],
   "metadata": {}
  }
 ]
}